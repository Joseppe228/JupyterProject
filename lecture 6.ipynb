{
 "cells": [
  {
   "cell_type": "code",
   "id": "initial_id",
   "metadata": {
    "collapsed": true,
    "ExecuteTime": {
     "end_time": "2025-05-19T07:36:04.162476Z",
     "start_time": "2025-05-19T07:36:03.912209Z"
    }
   },
   "source": "import pandas as pd",
   "outputs": [],
   "execution_count": 1
  },
  {
   "metadata": {
    "ExecuteTime": {
     "end_time": "2025-05-19T07:36:04.770461Z",
     "start_time": "2025-05-19T07:36:04.266644Z"
    }
   },
   "cell_type": "code",
   "source": [
    "melbourne = pd.read_csv('melb_data.csv')\n",
    "from sklearn.metrics import mean_absolute_error\n",
    "from sklearn.model_selection import train_test_split\n",
    "y=melbourne.Price\n",
    "melbourne_features = ['Rooms', 'Bathroom', 'Landsize', 'Lattitude', 'Longtitude']\n",
    "x=melbourne[melbourne_features]\n",
    "train_x, test_x, train_y, test_y = train_test_split(x, y, random_state=0)"
   ],
   "id": "1db6c8f40df7328f",
   "outputs": [],
   "execution_count": 2
  },
  {
   "metadata": {
    "ExecuteTime": {
     "end_time": "2025-05-19T07:36:04.842598Z",
     "start_time": "2025-05-19T07:36:04.787258Z"
    }
   },
   "cell_type": "code",
   "source": [
    "from sklearn.tree import DecisionTreeRegressor\n",
    "\n",
    "def get_mae(max_leaf_nodes, train_x, test_x, train_y, test_y):\n",
    "    model = DecisionTreeRegressor(max_leaf_nodes=max_leaf_nodes, random_state=0)\n",
    "    model.fit(train_x, train_y)\n",
    "    preds_val = model.predict(test_x)\n",
    "    mae = mean_absolute_error(test_y, preds_val)\n",
    "    return mae"
   ],
   "id": "fe22a2f9f62a601b",
   "outputs": [],
   "execution_count": 3
  },
  {
   "metadata": {
    "ExecuteTime": {
     "end_time": "2025-05-19T07:36:04.943259Z",
     "start_time": "2025-05-19T07:36:04.855434Z"
    }
   },
   "cell_type": "code",
   "source": [
    "for max_leaf_nodes in [5, 50, 500, 5000]:\n",
    "    my_mae = get_mae(max_leaf_nodes, train_x, test_x, train_y, test_y)\n",
    "    print(f\"Max leaf nodes: {max_leaf_nodes} \\t\\t Mean Absolute Error: {my_mae}\")"
   ],
   "id": "d16b6e37e546ec2b",
   "outputs": [
    {
     "name": "stdout",
     "output_type": "stream",
     "text": [
      "Max leaf nodes: 5 \t\t Mean Absolute Error: 354662.43726564094\n",
      "Max leaf nodes: 50 \t\t Mean Absolute Error: 266447.02204624057\n",
      "Max leaf nodes: 500 \t\t Mean Absolute Error: 231301.17567588817\n",
      "Max leaf nodes: 5000 \t\t Mean Absolute Error: 248846.07236606552\n"
     ]
    }
   ],
   "execution_count": 4
  },
  {
   "metadata": {
    "ExecuteTime": {
     "end_time": "2025-05-19T07:36:07.407147Z",
     "start_time": "2025-05-19T07:36:04.957546Z"
    }
   },
   "cell_type": "code",
   "source": [
    "from sklearn.ensemble import RandomForestRegressor\n",
    "forest_model = RandomForestRegressor(random_state=1)\n",
    "forest_model.fit(train_x, train_y)\n",
    "melb_preds = forest_model.predict(test_x)\n",
    "print(mean_absolute_error(test_y, melb_preds))"
   ],
   "id": "75ae32a91d8db2e",
   "outputs": [
    {
     "name": "stdout",
     "output_type": "stream",
     "text": [
      "180860.37877504269\n"
     ]
    }
   ],
   "execution_count": 5
  },
  {
   "metadata": {
    "ExecuteTime": {
     "end_time": "2025-05-19T07:36:07.446174Z",
     "start_time": "2025-05-19T07:36:07.410944Z"
    }
   },
   "cell_type": "code",
   "source": [
    "melbourne = pd.read_csv('melb_data.csv')\n",
    "melbourne.info()\n",
    "y = melbourne.Price\n",
    "melb_predictors = melbourne.drop(['Price'], axis=1)\n",
    "x = melb_predictors.select_dtypes(exclude=['object'])\n",
    "x_train, x_test, y_train, y_test = train_test_split(x, y, random_state=0, train_size=0.8, test_size=0.2)"
   ],
   "id": "b58692e4a17fc749",
   "outputs": [
    {
     "name": "stdout",
     "output_type": "stream",
     "text": [
      "<class 'pandas.core.frame.DataFrame'>\n",
      "RangeIndex: 13580 entries, 0 to 13579\n",
      "Data columns (total 21 columns):\n",
      " #   Column         Non-Null Count  Dtype  \n",
      "---  ------         --------------  -----  \n",
      " 0   Suburb         13580 non-null  object \n",
      " 1   Address        13580 non-null  object \n",
      " 2   Rooms          13580 non-null  int64  \n",
      " 3   Type           13580 non-null  object \n",
      " 4   Price          13580 non-null  float64\n",
      " 5   Method         13580 non-null  object \n",
      " 6   SellerG        13580 non-null  object \n",
      " 7   Date           13580 non-null  object \n",
      " 8   Distance       13580 non-null  float64\n",
      " 9   Postcode       13580 non-null  float64\n",
      " 10  Bedroom2       13580 non-null  float64\n",
      " 11  Bathroom       13580 non-null  float64\n",
      " 12  Car            13518 non-null  float64\n",
      " 13  Landsize       13580 non-null  float64\n",
      " 14  BuildingArea   7130 non-null   float64\n",
      " 15  YearBuilt      8205 non-null   float64\n",
      " 16  CouncilArea    12211 non-null  object \n",
      " 17  Lattitude      13580 non-null  float64\n",
      " 18  Longtitude     13580 non-null  float64\n",
      " 19  Regionname     13580 non-null  object \n",
      " 20  Propertycount  13580 non-null  float64\n",
      "dtypes: float64(12), int64(1), object(8)\n",
      "memory usage: 2.2+ MB\n"
     ]
    }
   ],
   "execution_count": 6
  },
  {
   "metadata": {
    "ExecuteTime": {
     "end_time": "2025-05-19T07:36:07.483465Z",
     "start_time": "2025-05-19T07:36:07.480987Z"
    }
   },
   "cell_type": "code",
   "source": [
    "def score_dataset(x_train, x_test, y_train, y_test):\n",
    "    model = RandomForestRegressor(n_estimators=10, random_state=1)\n",
    "    model.fit(x_train, y_train)\n",
    "    preds = model.predict(x_test)\n",
    "    return mean_absolute_error(y_test, preds)"
   ],
   "id": "f3996cfd3b77749b",
   "outputs": [],
   "execution_count": 7
  },
  {
   "metadata": {
    "ExecuteTime": {
     "end_time": "2025-05-19T07:36:07.507558Z",
     "start_time": "2025-05-19T07:36:07.503603Z"
    }
   },
   "cell_type": "code",
   "source": "cols_missing = [col for col in x_train.columns if x_train[col].isnull().any()]",
   "id": "4143b927ea15fa60",
   "outputs": [],
   "execution_count": 8
  },
  {
   "metadata": {
    "ExecuteTime": {
     "end_time": "2025-05-19T07:36:07.530476Z",
     "start_time": "2025-05-19T07:36:07.526710Z"
    }
   },
   "cell_type": "code",
   "source": [
    "reduced_x_train = x_train.drop(cols_missing, axis=1)\n",
    "reduced_x_test = x_test.drop(cols_missing, axis=1)"
   ],
   "id": "c649027a67113bd1",
   "outputs": [],
   "execution_count": 9
  },
  {
   "metadata": {
    "ExecuteTime": {
     "end_time": "2025-05-19T07:36:07.918359Z",
     "start_time": "2025-05-19T07:36:07.553362Z"
    }
   },
   "cell_type": "code",
   "source": "score_dataset(reduced_x_train, reduced_x_test, y_train, y_test)",
   "id": "dbe3da4c0ec2b742",
   "outputs": [
    {
     "data": {
      "text/plain": [
       "183207.24410372396"
      ]
     },
     "execution_count": 10,
     "metadata": {},
     "output_type": "execute_result"
    }
   ],
   "execution_count": 10
  },
  {
   "metadata": {
    "ExecuteTime": {
     "end_time": "2025-05-19T07:36:08.411975Z",
     "start_time": "2025-05-19T07:36:07.942157Z"
    }
   },
   "cell_type": "code",
   "source": [
    "from sklearn.impute import SimpleImputer\n",
    "my_imputer = SimpleImputer()\n",
    "imputed_x_train = pd.DataFrame(my_imputer.fit_transform(x_train))\n",
    "imputed_x_test = pd.DataFrame(my_imputer.transform(x_test))\n",
    "\n",
    "score_dataset(imputed_x_train, imputed_x_test, y_train, y_test)"
   ],
   "id": "a8fbcb5809b76516",
   "outputs": [
    {
     "data": {
      "text/plain": [
       "178224.83037029245"
      ]
     },
     "execution_count": 11,
     "metadata": {},
     "output_type": "execute_result"
    }
   ],
   "execution_count": 11
  },
  {
   "metadata": {
    "ExecuteTime": {
     "end_time": "2025-05-19T07:36:08.443472Z",
     "start_time": "2025-05-19T07:36:08.438892Z"
    }
   },
   "cell_type": "code",
   "source": [
    "x_train_plus =x_train.copy()\n",
    "x_test_plus = x_test.copy()\n",
    "\n",
    "for col in cols_missing:\n",
    "    x_train_plus[col+'_was_missing'] = x_train_plus[col].isnull()\n",
    "    x_test_plus[col+'_was_missing'] = x_test_plus[col].isnull()"
   ],
   "id": "8840c24ac400d9ae",
   "outputs": [],
   "execution_count": 12
  },
  {
   "metadata": {
    "ExecuteTime": {
     "end_time": "2025-05-19T07:36:08.487132Z",
     "start_time": "2025-05-19T07:36:08.472531Z"
    }
   },
   "cell_type": "code",
   "source": [
    "my_imputer = SimpleImputer()\n",
    "imputed_x_train_plus = pd.DataFrame(my_imputer.fit_transform(x_train_plus))\n",
    "imputed_x_test_plus = pd.DataFrame(my_imputer.transform(x_test_plus))"
   ],
   "id": "667cc5bc510912f5",
   "outputs": [],
   "execution_count": 13
  },
  {
   "metadata": {
    "ExecuteTime": {
     "end_time": "2025-05-19T07:36:09.005481Z",
     "start_time": "2025-05-19T07:36:08.523830Z"
    }
   },
   "cell_type": "code",
   "source": "score_dataset(imputed_x_train_plus, imputed_x_test_plus, y_train, y_test)",
   "id": "67c86c5d48775b2f",
   "outputs": [
    {
     "data": {
      "text/plain": [
       "178950.41952275755"
      ]
     },
     "execution_count": 14,
     "metadata": {},
     "output_type": "execute_result"
    }
   ],
   "execution_count": 14
  },
  {
   "metadata": {
    "ExecuteTime": {
     "end_time": "2025-05-19T07:36:09.074164Z",
     "start_time": "2025-05-19T07:36:09.044587Z"
    }
   },
   "cell_type": "code",
   "source": [
    "melbourne = pd.read_csv('melb_data.csv')\n",
    "y = melbourne.Price\n",
    "x = melbourne.drop(['Price'], axis=1)\n",
    "x_train_full, x_test_full, y_train, y_test  = train_test_split(x, y, random_state=0, train_size=0.8, test_size=0.2)"
   ],
   "id": "5405276080423f12",
   "outputs": [],
   "execution_count": 15
  },
  {
   "metadata": {
    "ExecuteTime": {
     "end_time": "2025-05-19T07:36:09.120189Z",
     "start_time": "2025-05-19T07:36:09.114061Z"
    }
   },
   "cell_type": "code",
   "source": "cols_missing = [col for col in x_train_full.columns if x_train_full[col].isnull().any()]",
   "id": "d79a24f9f7a5387c",
   "outputs": [],
   "execution_count": 16
  },
  {
   "metadata": {
    "ExecuteTime": {
     "end_time": "2025-05-19T07:36:09.166399Z",
     "start_time": "2025-05-19T07:36:09.161662Z"
    }
   },
   "cell_type": "code",
   "source": "x_train_full.drop(cols_missing, axis=1, inplace=True)",
   "id": "83e9f1d0845624f6",
   "outputs": [],
   "execution_count": 17
  },
  {
   "metadata": {
    "ExecuteTime": {
     "end_time": "2025-05-19T07:36:09.215955Z",
     "start_time": "2025-05-19T07:36:09.212844Z"
    }
   },
   "cell_type": "code",
   "source": "x_test_full.drop(cols_missing, axis=1, inplace=True)",
   "id": "e3b5c7d6a76ed77",
   "outputs": [],
   "execution_count": 18
  },
  {
   "metadata": {
    "ExecuteTime": {
     "end_time": "2025-05-19T07:36:09.269154Z",
     "start_time": "2025-05-19T07:36:09.261924Z"
    }
   },
   "cell_type": "code",
   "source": "low_cardinality_cols = [cname for cname in x_train_full.columns if x_train_full[cname].nunique() < 10 and x_train_full[cname].dtype == 'object']",
   "id": "bb79bb2afef0e65",
   "outputs": [],
   "execution_count": 19
  },
  {
   "metadata": {
    "ExecuteTime": {
     "end_time": "2025-05-19T07:36:09.318046Z",
     "start_time": "2025-05-19T07:36:09.315152Z"
    }
   },
   "cell_type": "code",
   "source": "numerical_cols = [cname for cname in x_train_full.columns if x_train_full[cname].dtype in ['int64', 'float64']]",
   "id": "77d84328b4c0521b",
   "outputs": [],
   "execution_count": 20
  },
  {
   "metadata": {
    "ExecuteTime": {
     "end_time": "2025-05-19T07:36:09.368561Z",
     "start_time": "2025-05-19T07:36:09.364579Z"
    }
   },
   "cell_type": "code",
   "source": [
    "my_cols = low_cardinality_cols + numerical_cols\n",
    "x_train = x_train_full[my_cols].copy()\n",
    "x_test = x_test_full[my_cols].copy()"
   ],
   "id": "f9a6e16cf95f4723",
   "outputs": [],
   "execution_count": 21
  },
  {
   "metadata": {
    "ExecuteTime": {
     "end_time": "2025-05-19T07:36:09.419434Z",
     "start_time": "2025-05-19T07:36:09.413044Z"
    }
   },
   "cell_type": "code",
   "source": "x_train.info()",
   "id": "7f531057af2abbb3",
   "outputs": [
    {
     "name": "stdout",
     "output_type": "stream",
     "text": [
      "<class 'pandas.core.frame.DataFrame'>\n",
      "Index: 10864 entries, 12167 to 2732\n",
      "Data columns (total 12 columns):\n",
      " #   Column         Non-Null Count  Dtype  \n",
      "---  ------         --------------  -----  \n",
      " 0   Type           10864 non-null  object \n",
      " 1   Method         10864 non-null  object \n",
      " 2   Regionname     10864 non-null  object \n",
      " 3   Rooms          10864 non-null  int64  \n",
      " 4   Distance       10864 non-null  float64\n",
      " 5   Postcode       10864 non-null  float64\n",
      " 6   Bedroom2       10864 non-null  float64\n",
      " 7   Bathroom       10864 non-null  float64\n",
      " 8   Landsize       10864 non-null  float64\n",
      " 9   Lattitude      10864 non-null  float64\n",
      " 10  Longtitude     10864 non-null  float64\n",
      " 11  Propertycount  10864 non-null  float64\n",
      "dtypes: float64(8), int64(1), object(3)\n",
      "memory usage: 1.1+ MB\n"
     ]
    }
   ],
   "execution_count": 22
  },
  {
   "metadata": {
    "ExecuteTime": {
     "end_time": "2025-05-19T07:36:09.470745Z",
     "start_time": "2025-05-19T07:36:09.466464Z"
    }
   },
   "cell_type": "code",
   "source": [
    "s = (x_train.dtypes == 'object')\n",
    "print(s)\n",
    "object_cols = list(s[s].index)\n",
    "object_cols"
   ],
   "id": "7be94482ea9b00c8",
   "outputs": [
    {
     "name": "stdout",
     "output_type": "stream",
     "text": [
      "Type              True\n",
      "Method            True\n",
      "Regionname        True\n",
      "Rooms            False\n",
      "Distance         False\n",
      "Postcode         False\n",
      "Bedroom2         False\n",
      "Bathroom         False\n",
      "Landsize         False\n",
      "Lattitude        False\n",
      "Longtitude       False\n",
      "Propertycount    False\n",
      "dtype: bool\n"
     ]
    },
    {
     "data": {
      "text/plain": [
       "['Type', 'Method', 'Regionname']"
      ]
     },
     "execution_count": 23,
     "metadata": {},
     "output_type": "execute_result"
    }
   ],
   "execution_count": 23
  },
  {
   "metadata": {
    "ExecuteTime": {
     "end_time": "2025-05-19T07:36:09.490171Z",
     "start_time": "2025-05-19T07:36:09.487720Z"
    }
   },
   "cell_type": "code",
   "source": [
    "def score_dataset(x_train, x_test, y_train, y_test):\n",
    "    model = RandomForestRegressor(n_estimators=100, random_state=0)\n",
    "    model.fit(x_train, y_train)\n",
    "    preds = model.predict(x_test)\n",
    "    return mean_absolute_error(y_test, preds)"
   ],
   "id": "5fd80c27e3f1a0f2",
   "outputs": [],
   "execution_count": 24
  },
  {
   "metadata": {
    "ExecuteTime": {
     "end_time": "2025-05-19T07:36:09.564953Z",
     "start_time": "2025-05-19T07:36:09.561875Z"
    }
   },
   "cell_type": "code",
   "source": [
    "drop_x_train = x_train.select_dtypes(exclude=['object'])\n",
    "drop_x_test = x_test.select_dtypes(exclude=['object'])"
   ],
   "id": "14e6d0a8045db508",
   "outputs": [],
   "execution_count": 25
  },
  {
   "metadata": {
    "ExecuteTime": {
     "end_time": "2025-05-19T07:36:13.247254Z",
     "start_time": "2025-05-19T07:36:09.614099Z"
    }
   },
   "cell_type": "code",
   "source": "score_dataset(drop_x_train, drop_x_test, y_train, y_test)",
   "id": "f777d517a6c2019f",
   "outputs": [
    {
     "data": {
      "text/plain": [
       "175703.48185157913"
      ]
     },
     "execution_count": 26,
     "metadata": {},
     "output_type": "execute_result"
    }
   ],
   "execution_count": 26
  },
  {
   "metadata": {
    "ExecuteTime": {
     "end_time": "2025-05-19T07:43:05.835508Z",
     "start_time": "2025-05-19T07:43:05.821379Z"
    }
   },
   "cell_type": "code",
   "source": [
    "from sklearn.preprocessing import OrdinalEncoder\n",
    "label_x_train = x_train.copy()\n",
    "label_x_test = x_test.copy()\n",
    "\n",
    "ordinal_encoder = OrdinalEncoder()\n",
    "label_x_train[object_cols] = ordinal_encoder.fit_transform(x_train[object_cols])\n",
    "label_x_test[object_cols] = ordinal_encoder.transform(x_test[object_cols])"
   ],
   "id": "b79fc6dfe4328522",
   "outputs": [],
   "execution_count": 29
  },
  {
   "metadata": {
    "ExecuteTime": {
     "end_time": "2025-05-19T07:47:20.318632Z",
     "start_time": "2025-05-19T07:47:16.309208Z"
    }
   },
   "cell_type": "code",
   "source": "score_dataset(label_x_train, label_x_test, y_train, y_test)",
   "id": "764ae3227d0d6a54",
   "outputs": [
    {
     "data": {
      "text/plain": [
       "165936.40548390493"
      ]
     },
     "execution_count": 30,
     "metadata": {},
     "output_type": "execute_result"
    }
   ],
   "execution_count": 30
  },
  {
   "metadata": {
    "ExecuteTime": {
     "end_time": "2025-05-19T08:00:16.838836Z",
     "start_time": "2025-05-19T08:00:16.827725Z"
    }
   },
   "cell_type": "code",
   "source": [
    "from sklearn.preprocessing import OneHotEncoder\n",
    "OH_encoder = OneHotEncoder(handle_unknown='ignore', sparse_output=False)\n",
    "OH_cols_train = pd.DataFrame(OH_encoder.fit_transform(label_x_train[object_cols]))\n",
    "OH_cols_test = pd.DataFrame(OH_encoder.transform(label_x_test[object_cols]))"
   ],
   "id": "4aff63fc85a4e048",
   "outputs": [],
   "execution_count": 37
  },
  {
   "metadata": {
    "ExecuteTime": {
     "end_time": "2025-05-19T08:00:17.442196Z",
     "start_time": "2025-05-19T08:00:17.439053Z"
    }
   },
   "cell_type": "code",
   "source": [
    "OH_cols_train.index = x_train.index\n",
    "OH_cols_test.index = x_test.index"
   ],
   "id": "491f3e78fcd35e7f",
   "outputs": [],
   "execution_count": 38
  },
  {
   "metadata": {
    "ExecuteTime": {
     "end_time": "2025-05-19T08:00:17.878905Z",
     "start_time": "2025-05-19T08:00:17.875618Z"
    }
   },
   "cell_type": "code",
   "source": [
    "num_x_train = x_train.drop(object_cols, axis=1)\n",
    "num_x_test = x_test.drop(object_cols, axis=1)"
   ],
   "id": "fb994c6fb7753c76",
   "outputs": [],
   "execution_count": 39
  },
  {
   "metadata": {
    "ExecuteTime": {
     "end_time": "2025-05-19T08:01:44.528089Z",
     "start_time": "2025-05-19T08:01:44.515188Z"
    }
   },
   "cell_type": "code",
   "source": [
    "OH_x_train = pd.concat([num_x_train, OH_cols_train], axis=1)\n",
    "OH_x_test = pd.concat([num_x_test, OH_cols_test], axis=1)"
   ],
   "id": "5595b82ff54cc1ed",
   "outputs": [],
   "execution_count": 41
  },
  {
   "metadata": {
    "ExecuteTime": {
     "end_time": "2025-05-19T08:02:13.144780Z",
     "start_time": "2025-05-19T08:02:13.139794Z"
    }
   },
   "cell_type": "code",
   "source": [
    "OH_x_train.columns = OH_x_train.columns.astype(str)\n",
    "OH_x_test.columns = OH_x_test.columns.astype(str)"
   ],
   "id": "76b8ceb8eaf65c3e",
   "outputs": [],
   "execution_count": 42
  },
  {
   "metadata": {
    "ExecuteTime": {
     "end_time": "2025-05-19T08:02:25.595535Z",
     "start_time": "2025-05-19T08:02:17.985424Z"
    }
   },
   "cell_type": "code",
   "source": "score_dataset(OH_x_train, OH_x_test, y_train, y_test)",
   "id": "430f6da68f524a9",
   "outputs": [
    {
     "data": {
      "text/plain": [
       "165564.96689599552"
      ]
     },
     "execution_count": 43,
     "metadata": {},
     "output_type": "execute_result"
    }
   ],
   "execution_count": 43
  },
  {
   "metadata": {},
   "cell_type": "code",
   "outputs": [],
   "execution_count": null,
   "source": "",
   "id": "abaf4676fcf0a8b1"
  }
 ],
 "metadata": {
  "kernelspec": {
   "display_name": "Python 3",
   "language": "python",
   "name": "python3"
  },
  "language_info": {
   "codemirror_mode": {
    "name": "ipython",
    "version": 2
   },
   "file_extension": ".py",
   "mimetype": "text/x-python",
   "name": "python",
   "nbconvert_exporter": "python",
   "pygments_lexer": "ipython2",
   "version": "2.7.6"
  }
 },
 "nbformat": 4,
 "nbformat_minor": 5
}
