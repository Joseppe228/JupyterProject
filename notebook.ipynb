{
 "cells": [
  {
   "metadata": {},
   "cell_type": "raw",
   "source": "",
   "id": "c37323f4eba62d61"
  },
  {
   "metadata": {},
   "cell_type": "markdown",
   "source": "# Заголовок",
   "id": "307b6e7a2ee0e77e"
  },
  {
   "metadata": {
    "id": "DzcvziKqWNvU"
   },
   "cell_type": "code",
   "source": "import math",
   "id": "fac73c1224f2c2b1",
   "outputs": [],
   "execution_count": null
  },
  {
   "metadata": {
    "colab": {
     "base_uri": "https://localhost:8080/"
    },
    "id": "SISfDMUtWSfz",
    "outputId": "52bc9eb9-834c-4cd3-c7f9-c09c55af8a26"
   },
   "cell_type": "code",
   "source": "print(math.comb(12, 3))",
   "id": "e7a69d7c4af71b65",
   "outputs": [],
   "execution_count": null
  },
  {
   "metadata": {
    "colab": {
     "base_uri": "https://localhost:8080/"
    },
    "id": "7wQMh-fcWa_0",
    "outputId": "c4ab73d6-1a21-4121-c581-a8661a654ee6"
   },
   "cell_type": "code",
   "source": "math.comb(12, 5)",
   "id": "16d32321ddc53255",
   "outputs": [],
   "execution_count": null
  },
  {
   "metadata": {
    "colab": {
     "base_uri": "https://localhost:8080/"
    },
    "id": "meFgPFNgWipz",
    "outputId": "a8980c9a-a3bb-4501-983a-0ef87ed06c6d"
   },
   "cell_type": "code",
   "source": "math.factorial(5)",
   "id": "d1ceef6751714e91",
   "outputs": [],
   "execution_count": null
  },
  {
   "metadata": {
    "id": "G7zzfUq1WmGD"
   },
   "cell_type": "code",
   "source": "import math as m",
   "id": "f257ebb7bdba3220",
   "outputs": [],
   "execution_count": null
  },
  {
   "metadata": {
    "colab": {
     "base_uri": "https://localhost:8080/"
    },
    "id": "NBsvUcIJWrUT",
    "outputId": "6815d584-68e8-4ded-a96c-23b3b324114d"
   },
   "cell_type": "code",
   "source": "m.gcd(120, 210, 360)",
   "id": "30267b3822a8de25",
   "outputs": [],
   "execution_count": null
  },
  {
   "metadata": {
    "colab": {
     "base_uri": "https://localhost:8080/"
    },
    "id": "9HtdnPp7Ww6z",
    "outputId": "094463d4-b23e-4909-eda9-c096bc03171c"
   },
   "cell_type": "code",
   "source": "m.lcm(10, 20, 30, 40)",
   "id": "1aa21b635c236b28",
   "outputs": [],
   "execution_count": null
  },
  {
   "metadata": {},
   "cell_type": "code",
   "source": "import numpy as np",
   "id": "2096608701815996",
   "outputs": [],
   "execution_count": null
  },
  {
   "metadata": {},
   "cell_type": "code",
   "source": [
    "a = np.arange(1, 13).reshape(4, 3)\n",
    "print(a)\n",
    "print('Transpose')\n",
    "print(a.transpose())\n",
    "print('Turn left')\n",
    "print(np.rot90(a))\n",
    "print('Turn right')\n",
    "print(np.rot90(a, -1))"
   ],
   "id": "d9c76716df911013",
   "outputs": [],
   "execution_count": null
  },
  {
   "metadata": {},
   "cell_type": "code",
   "source": [
    "print(a.mT)\n",
    "print(a.T)"
   ],
   "id": "9714e712d6a3fcc5",
   "outputs": [],
   "execution_count": null
  },
  {
   "metadata": {
    "ExecuteTime": {
     "end_time": "2025-05-13T06:03:14.122184Z",
     "start_time": "2025-05-13T06:03:14.115660Z"
    }
   },
   "cell_type": "code",
   "source": [
    "import numpy as np\n",
    "a = np.array([\n",
    "    [1, 2, 3],\n",
    "    [4, 5, 6],\n",
    "    [7, 8, 9]\n",
    "])\n",
    "print(a.sum(axis=0))\n",
    "print(a.sum(axis=1))\n",
    "print(a.min(axis=0))\n",
    "print(a.max(axis=1))"
   ],
   "id": "c2e8874270745704",
   "outputs": [
    {
     "name": "stdout",
     "output_type": "stream",
     "text": [
      "[12 15 18]\n",
      "[ 6 15 24]\n",
      "[1 2 3]\n",
      "[3 6 9]\n"
     ]
    }
   ],
   "execution_count": 31
  },
  {
   "metadata": {
    "ExecuteTime": {
     "end_time": "2025-05-13T06:10:03.608983Z",
     "start_time": "2025-05-13T06:10:03.605218Z"
    }
   },
   "cell_type": "code",
   "source": [
    "a = np.arange(1,16).reshape(3,5)\n",
    "print(a)\n",
    "print(a[:2,3:])\n",
    "print()\n",
    "print(a[::2,::2])"
   ],
   "id": "5aacde5c9819d4e5",
   "outputs": [
    {
     "name": "stdout",
     "output_type": "stream",
     "text": [
      "[[ 1  2  3  4  5]\n",
      " [ 6  7  8  9 10]\n",
      " [11 12 13 14 15]]\n",
      "[[ 4  5]\n",
      " [ 9 10]]\n",
      "\n",
      "[[ 1  3  5]\n",
      " [11 13 15]]\n"
     ]
    }
   ],
   "execution_count": 36
  },
  {
   "metadata": {},
   "cell_type": "code",
   "outputs": [],
   "execution_count": null,
   "source": "",
   "id": "54900450078df6bc"
  }
 ],
 "metadata": {
  "kernelspec": {
   "display_name": "Python 3",
   "language": "python",
   "name": "python3"
  },
  "language_info": {
   "codemirror_mode": {
    "name": "ipython",
    "version": 2
   },
   "file_extension": ".py",
   "mimetype": "text/x-python",
   "name": "python",
   "nbconvert_exporter": "python",
   "pygments_lexer": "ipython2",
   "version": "2.7.6"
  }
 },
 "nbformat": 4,
 "nbformat_minor": 5
}
